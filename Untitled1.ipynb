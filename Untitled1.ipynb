{
  "nbformat": 4,
  "nbformat_minor": 0,
  "metadata": {
    "colab": {
      "provenance": [],
      "authorship_tag": "ABX9TyNP9xLs8/fdrjL7pH7KFRYz",
      "include_colab_link": true
    },
    "kernelspec": {
      "name": "python3",
      "display_name": "Python 3"
    },
    "language_info": {
      "name": "python"
    }
  },
  "cells": [
    {
      "cell_type": "markdown",
      "metadata": {
        "id": "view-in-github",
        "colab_type": "text"
      },
      "source": [
        "<a href=\"https://colab.research.google.com/github/pranavvprem/Basic-2/blob/main/Untitled1.ipynb\" target=\"_parent\"><img src=\"https://colab.research.google.com/assets/colab-badge.svg\" alt=\"Open In Colab\"/></a>"
      ]
    },
    {
      "cell_type": "code",
      "execution_count": 1,
      "metadata": {
        "colab": {
          "base_uri": "https://localhost:8080/"
        },
        "id": "FolZWgeHe7jM",
        "outputId": "65f653da-d0fe-43d9-e391-2e8876af548b"
      },
      "outputs": [
        {
          "name": "stdout",
          "output_type": "stream",
          "text": [
            "50\n"
          ]
        }
      ],
      "source": [
        "mark=int(input())"
      ]
    },
    {
      "cell_type": "code",
      "source": [
        "if mark >50 :\n",
        "  print(\"you are passed\") \n",
        "if mark <50 :\n",
        "  print(\"you are failed\")\n",
        "if mark == 50 : \n",
        "   print(\"you are just passed\")\n",
        "\n",
        "\n",
        "\n",
        "\n",
        "\n",
        "\n",
        " \n"
      ],
      "metadata": {
        "colab": {
          "base_uri": "https://localhost:8080/"
        },
        "id": "lyNDy04Qg86c",
        "outputId": "b531c629-4770-46f9-8603-58019eef486b"
      },
      "execution_count": 2,
      "outputs": [
        {
          "output_type": "stream",
          "name": "stdout",
          "text": [
            "you are just passed\n"
          ]
        }
      ]
    },
    {
      "cell_type": "code",
      "source": [],
      "metadata": {
        "id": "IW-cmlqMq3zj"
      },
      "execution_count": 2,
      "outputs": []
    },
    {
      "cell_type": "code",
      "source": [
        "S=int(input())\n",
        "if S >250000 :\n",
        "  print(\"you are taxable\")\n",
        "  print(S*(10/100))\n",
        "  print()\n",
        "if S <250000 : \n",
        "  print(\"you are not taxable\")\n",
        "if S <=250000 :\n",
        "  print(\"you are not taxable\")\n"
      ],
      "metadata": {
        "colab": {
          "base_uri": "https://localhost:8080/"
        },
        "id": "leYoC5wWhxgG",
        "outputId": "c512d0b7-6b7c-4afc-9825-218786f992b1"
      },
      "execution_count": 3,
      "outputs": [
        {
          "output_type": "stream",
          "name": "stdout",
          "text": [
            "51545255462\n",
            "you are taxable\n",
            "5154525546.200001\n",
            "\n"
          ]
        }
      ]
    },
    {
      "cell_type": "code",
      "source": [
        "\n"
      ],
      "metadata": {
        "id": "mPv6dK43lvW_"
      },
      "execution_count": 3,
      "outputs": []
    }
  ]
}