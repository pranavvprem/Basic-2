{
  "nbformat": 4,
  "nbformat_minor": 0,
  "metadata": {
    "colab": {
      "provenance": [],
      "authorship_tag": "ABX9TyPjTKKrOvYS28bbFcGNOira",
      "include_colab_link": true
    },
    "kernelspec": {
      "name": "python3",
      "display_name": "Python 3"
    },
    "language_info": {
      "name": "python"
    }
  },
  "cells": [
    {
      "cell_type": "markdown",
      "metadata": {
        "id": "view-in-github",
        "colab_type": "text"
      },
      "source": [
        "<a href=\"https://colab.research.google.com/github/pranavvprem/Basic-2/blob/main/Untitled0.ipynb\" target=\"_parent\"><img src=\"https://colab.research.google.com/assets/colab-badge.svg\" alt=\"Open In Colab\"/></a>"
      ]
    },
    {
      "cell_type": "code",
      "source": [
        "salary=int(input())\n",
        "if salary >=250000 and salary <500000 :\n",
        "    print(\"not taxable\")\n",
        "    print(salary*10/100)\n",
        "    x=250000*0.10*/100\n",
        "    y=(salary-50000)*0.20\n",
        "if salary >=500000 and salary <750000 :\n",
        "    print(\"taxable\")\n",
        "    print(salary*20/100)\n",
        "if salary >=750000 and salary <10000000:\n",
        "  print(\"taxable\")\n",
        "  print(salary*30/100)\n",
        "if salary >10000000:\n",
        "  print(\"taxable\")\n",
        "  print((salary-10000000)*30/100+(salary-10000000)*2/100)\n"
      ],
      "metadata": {
        "colab": {
          "base_uri": "https://localhost:8080/"
        },
        "id": "J92dJAwtqKtO",
        "outputId": "2c6009ef-9557-4644-976c-27a3128c71ff"
      },
      "execution_count": 19,
      "outputs": [
        {
          "output_type": "stream",
          "name": "stdout",
          "text": [
            "6000000000\n",
            "taxable\n",
            "1916800000.0\n"
          ]
        }
      ]
    }
  ]
}