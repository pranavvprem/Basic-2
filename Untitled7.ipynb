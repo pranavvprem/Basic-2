{
  "nbformat": 4,
  "nbformat_minor": 0,
  "metadata": {
    "colab": {
      "provenance": [],
      "toc_visible": true,
      "authorship_tag": "ABX9TyNqK6dwcRGNNSMMIRp7DCHC",
      "include_colab_link": true
    },
    "kernelspec": {
      "name": "python3",
      "display_name": "Python 3"
    },
    "language_info": {
      "name": "python"
    }
  },
  "cells": [
    {
      "cell_type": "markdown",
      "metadata": {
        "id": "view-in-github",
        "colab_type": "text"
      },
      "source": [
        "<a href=\"https://colab.research.google.com/github/pranavvprem/Basic-2/blob/main/Untitled7.ipynb\" target=\"_parent\"><img src=\"https://colab.research.google.com/assets/colab-badge.svg\" alt=\"Open In Colab\"/></a>"
      ]
    },
    {
      "cell_type": "code",
      "execution_count": null,
      "metadata": {
        "colab": {
          "base_uri": "https://localhost:8080/"
        },
        "id": "tgdDdvprqzQq",
        "outputId": "c9c29b48-181e-46aa-fdd4-bc05ce0749d7"
      },
      "outputs": [
        {
          "output_type": "stream",
          "name": "stdout",
          "text": [
            "Enter the number4\n",
            "1 x 4 = 4\n",
            "2 x 4 = 8\n",
            "3 x 4 = 12\n",
            "4 x 4 = 16\n",
            "5 x 4 = 20\n",
            "6 x 4 = 24\n",
            "7 x 4 = 28\n",
            "8 x 4 = 32\n",
            "9 x 4 = 36\n",
            "10 x 4 = 40\n"
          ]
        }
      ],
      "source": [
        "num=int(input(\"Enter the number\"))\n",
        "for i in range(1,11):\n",
        "  print(i,\"x\",num,\"=\",i*num)\n"
      ]
    },
    {
      "cell_type": "code",
      "source": [
        "num=int(input())\n",
        "i=1\n",
        "while(i<=10):\n",
        "  print(i,\"x\",num,\"=\",i*num)\n",
        "  i=i+1"
      ],
      "metadata": {
        "colab": {
          "base_uri": "https://localhost:8080/"
        },
        "id": "auLetgdruPl8",
        "outputId": "07342fb5-4f96-446b-b54d-c1a667c2613f"
      },
      "execution_count": null,
      "outputs": [
        {
          "output_type": "stream",
          "name": "stdout",
          "text": [
            "5\n",
            "1 x 5 = 5\n",
            "2 x 5 = 10\n",
            "3 x 5 = 15\n",
            "4 x 5 = 20\n",
            "5 x 5 = 25\n",
            "6 x 5 = 30\n",
            "7 x 5 = 35\n",
            "8 x 5 = 40\n",
            "9 x 5 = 45\n",
            "10 x 5 = 50\n"
          ]
        }
      ]
    },
    {
      "cell_type": "code",
      "source": [
        "Number = input(\"Please Enter any Number\")\n",
        "\n"
      ],
      "metadata": {
        "colab": {
          "base_uri": "https://localhost:8080/"
        },
        "id": "IWRczOGGypOB",
        "outputId": "1304441f-017c-423e-9a60-2c131903cbe8"
      },
      "execution_count": null,
      "outputs": [
        {
          "output_type": "stream",
          "name": "stdout",
          "text": [
            "Please Enter any Number4\n",
            "4\n"
          ]
        }
      ]
    },
    {
      "cell_type": "code",
      "source": [
        "num=input(\"Enter the number\")\n",
        "d=0\n",
        "for i in num:\n",
        "  #print(i)\n",
        "  d=d+1\n",
        "print(d)"
      ],
      "metadata": {
        "colab": {
          "base_uri": "https://localhost:8080/"
        },
        "id": "sIgpMN9q2vRd",
        "outputId": "2a111659-178f-42b5-bee7-191faa190876"
      },
      "execution_count": null,
      "outputs": [
        {
          "output_type": "stream",
          "name": "stdout",
          "text": [
            "Enter the number45\n",
            "2\n"
          ]
        }
      ]
    },
    {
      "cell_type": "code",
      "source": [
        "x=input(\"enter a string\")\n",
        "w= \"\"\n",
        "for i in x:  \n",
        "  w=i+w\n",
        "print(w)\n",
        "if x==w: \n",
        "  print('true')\n",
        "else:\n",
        "  print('false')"
      ],
      "metadata": {
        "id": "EHCtaPXy4YUg",
        "colab": {
          "base_uri": "https://localhost:8080/"
        },
        "outputId": "a32450bf-09dc-4d5d-b84f-e405cf3b4b92"
      },
      "execution_count": null,
      "outputs": [
        {
          "output_type": "stream",
          "name": "stdout",
          "text": [
            "enter a stringmalayalam\n",
            "malayalam\n",
            "true\n"
          ]
        }
      ]
    },
    {
      "cell_type": "code",
      "source": [
        "n=input('Enter username ')\n",
        "a=input('Enter a letter to search ')\n",
        "b=input('Enter the letter to replace ')\n",
        "if a in n:\n",
        "  print(n.replace(a,b))\n",
        "\n",
        "\n"
      ],
      "metadata": {
        "colab": {
          "base_uri": "https://localhost:8080/"
        },
        "id": "5TNt5eW47B2H",
        "outputId": "e17795fc-8d24-4f3e-b493-1ce51768d028"
      },
      "execution_count": null,
      "outputs": [
        {
          "name": "stdout",
          "output_type": "stream",
          "text": [
            "Enter username vijaya\n",
            "Enter a letter to search d\n",
            "Enter the letter to replace s\n"
          ]
        }
      ]
    },
    {
      "cell_type": "code",
      "source": [
        "a=input('Enter Country name ')\n",
        "b=input('Enter Country name ')\n",
        "c=input('Enter Country name ')\n",
        "d=input('Enter Country name ')\n",
        "e=input('Enter Country name ')\n",
        "L=[a,b,c,d,e]\n",
        "print(sorted(L))\n",
        "f=input('Enter another country name ')\n",
        "L.append(f)\n",
        "print(L)"
      ],
      "metadata": {
        "id": "1WBY4LvyCzh-",
        "colab": {
          "base_uri": "https://localhost:8080/"
        },
        "outputId": "faffde5f-c216-49ed-ea3c-ee1ae3cb6628"
      },
      "execution_count": 19,
      "outputs": [
        {
          "output_type": "stream",
          "name": "stdout",
          "text": [
            "Enter Country name ameria\n",
            "Enter Country name italy\n",
            "Enter Country name brazil\n",
            "Enter Country name argentina\n",
            "Enter Country name germany\n",
            "['ameria', 'argentina', 'brazil', 'germany', 'italy']\n",
            "Enter another country name portungal\n",
            "['ameria', 'italy', 'brazil', 'argentina', 'germany', 'portungal']\n"
          ]
        }
      ]
    },
    {
      "cell_type": "code",
      "source": [],
      "metadata": {
        "id": "-DmhVnELDFIT"
      },
      "execution_count": null,
      "outputs": []
    }
  ]
}