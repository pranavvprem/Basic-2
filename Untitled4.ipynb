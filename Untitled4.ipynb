{
  "nbformat": 4,
  "nbformat_minor": 0,
  "metadata": {
    "colab": {
      "provenance": [],
      "authorship_tag": "ABX9TyMErJgEh7iYbr1vPCesLL4n",
      "include_colab_link": true
    },
    "kernelspec": {
      "name": "python3",
      "display_name": "Python 3"
    },
    "language_info": {
      "name": "python"
    }
  },
  "cells": [
    {
      "cell_type": "markdown",
      "metadata": {
        "id": "view-in-github",
        "colab_type": "text"
      },
      "source": [
        "<a href=\"https://colab.research.google.com/github/pranavvprem/Basic-2/blob/main/Untitled4.ipynb\" target=\"_parent\"><img src=\"https://colab.research.google.com/assets/colab-badge.svg\" alt=\"Open In Colab\"/></a>"
      ]
    },
    {
      "cell_type": "code",
      "execution_count": null,
      "metadata": {
        "colab": {
          "base_uri": "https://localhost:8080/"
        },
        "id": "y0CM7taHgkQ2",
        "outputId": "10749b4e-288f-4763-c4a7-906c76a1be9e"
      },
      "outputs": [
        {
          "output_type": "stream",
          "name": "stdout",
          "text": [
            "Enter the namepranav\n",
            "pranav\n"
          ]
        }
      ],
      "source": [
        "name=input(\"Enter the name\")\n",
        "print(name)"
      ]
    },
    {
      "cell_type": "code",
      "source": [
        "name=input(\"Enter the name\")\n",
        "print(name)\n",
        "m1=int(input(\"Enter marks\"))\n",
        "m2=int(input(\"Enter marks\"))\n",
        "m3=int(input(\"Enter marks\"))\n",
        "sum=m1+m2+m3\n",
        "print(sum)\n",
        "avg=m1+m2+m3/3\n",
        "print(avg)"
      ],
      "metadata": {
        "colab": {
          "base_uri": "https://localhost:8080/"
        },
        "id": "OMehUxCuiKZX",
        "outputId": "69bdad7b-374c-4265-b92d-d8a73944e7d1"
      },
      "execution_count": null,
      "outputs": [
        {
          "output_type": "stream",
          "name": "stdout",
          "text": [
            "Enter the namesuresh\n",
            "suresh\n",
            "Enter marks69\n",
            "Enter marks88\n",
            "Enter marks98\n",
            "255\n",
            "189.66666666666666\n"
          ]
        }
      ]
    },
    {
      "cell_type": "code",
      "source": [
        "a=int(input(\"Enter the number\"))\n",
        "b=int(input(\"Enter the number\"))\n",
        "if a>b:\n",
        "  print(\"a is greater\")\n",
        "else:\n",
        "  print(\"b is greater\")"
      ],
      "metadata": {
        "colab": {
          "base_uri": "https://localhost:8080/"
        },
        "id": "PwRlPKN3jlzV",
        "outputId": "701577fe-6c6c-45da-a411-c83471c0d999"
      },
      "execution_count": null,
      "outputs": [
        {
          "output_type": "stream",
          "name": "stdout",
          "text": [
            "Enter the number85\n",
            "Enter the number21\n",
            "a is greater\n"
          ]
        }
      ]
    },
    {
      "cell_type": "code",
      "source": [
        "a=int(input(\"Enter the number\"))\n",
        "b=int(input(\"Enter the number\"))\n",
        "c=int(input(\"Enter the number\"))\n",
        "if a>b:\n",
        "  print(\"a is greater\")\n",
        "elif a>c:\n",
        "  print(\"a is greater\")\n",
        "elif b>a:\n",
        "  print(\"b is greater\")\n",
        "elif b>c:\n",
        "  print(\"b is greater\")\n",
        "elif c>a:\n",
        "  print(\"c is greater\")\n",
        "elif c>b:\n",
        "  print(\"c is greater\")"
      ],
      "metadata": {
        "colab": {
          "base_uri": "https://localhost:8080/"
        },
        "id": "B2cco_yMmUyY",
        "outputId": "ec657fcd-1858-4673-b809-d4945a84122d"
      },
      "execution_count": null,
      "outputs": [
        {
          "output_type": "stream",
          "name": "stdout",
          "text": [
            "Enter the number74\n",
            "Enter the number6\n",
            "Enter the number12\n",
            "a is greater\n"
          ]
        }
      ]
    },
    {
      "cell_type": "code",
      "source": [
        "n1=int(input(\"Enter the number\"))\n",
        "if n1%2==0:\n",
        "  print(\"n1 is odd\")\n",
        "else:\n",
        "  print(\"n1 is even\")\n"
      ],
      "metadata": {
        "id": "oUiZai6zqkMG",
        "colab": {
          "base_uri": "https://localhost:8080/"
        },
        "outputId": "217ebced-9ec9-4cab-a5e1-933a05b4da65"
      },
      "execution_count": 25,
      "outputs": [
        {
          "output_type": "stream",
          "name": "stdout",
          "text": [
            "Enter the number2145\n",
            "n1 is odd\n"
          ]
        }
      ]
    },
    {
      "cell_type": "code",
      "source": [
        "for i in range (1,11):\n",
        "  print(i)\n"
      ],
      "metadata": {
        "colab": {
          "base_uri": "https://localhost:8080/"
        },
        "id": "C0x5VXaIu_3d",
        "outputId": "91016985-5cd7-40e7-cbfa-b1671252144f"
      },
      "execution_count": 26,
      "outputs": [
        {
          "output_type": "stream",
          "name": "stdout",
          "text": [
            "1\n",
            "2\n",
            "3\n",
            "4\n",
            "5\n",
            "6\n",
            "7\n",
            "8\n",
            "9\n",
            "10\n"
          ]
        }
      ]
    },
    {
      "cell_type": "code",
      "source": [
        "for i in range(0,12,2):\n",
        " print(i)"
      ],
      "metadata": {
        "colab": {
          "base_uri": "https://localhost:8080/"
        },
        "id": "9ncb4xrcwM2p",
        "outputId": "cf9abcfc-339b-4e06-eb45-b17f73ebfacf"
      },
      "execution_count": 29,
      "outputs": [
        {
          "output_type": "stream",
          "name": "stdout",
          "text": [
            "0\n",
            "2\n",
            "4\n",
            "6\n",
            "8\n",
            "10\n"
          ]
        }
      ]
    },
    {
      "cell_type": "code",
      "source": [
        "for i in range(0,51,5):\n",
        "  print(i)"
      ],
      "metadata": {
        "colab": {
          "base_uri": "https://localhost:8080/"
        },
        "id": "H0VtX4IA0OKI",
        "outputId": "06bdbf52-cd91-4816-8535-d064d149b5b4"
      },
      "execution_count": 31,
      "outputs": [
        {
          "output_type": "stream",
          "name": "stdout",
          "text": [
            "0\n",
            "5\n",
            "10\n",
            "15\n",
            "20\n",
            "25\n",
            "30\n",
            "35\n",
            "40\n",
            "45\n",
            "50\n"
          ]
        }
      ]
    },
    {
      "cell_type": "code",
      "source": [],
      "metadata": {
        "id": "XsCue0gO0mhD"
      },
      "execution_count": null,
      "outputs": []
    }
  ]
}