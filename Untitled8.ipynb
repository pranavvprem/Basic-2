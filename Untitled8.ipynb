{
  "nbformat": 4,
  "nbformat_minor": 0,
  "metadata": {
    "colab": {
      "provenance": [],
      "authorship_tag": "ABX9TyPyL31qset/Pk7VL5rOSj74",
      "include_colab_link": true
    },
    "kernelspec": {
      "name": "python3",
      "display_name": "Python 3"
    },
    "language_info": {
      "name": "python"
    }
  },
  "cells": [
    {
      "cell_type": "markdown",
      "metadata": {
        "id": "view-in-github",
        "colab_type": "text"
      },
      "source": [
        "<a href=\"https://colab.research.google.com/github/pranavvprem/Basic-2/blob/main/Untitled8.ipynb\" target=\"_parent\"><img src=\"https://colab.research.google.com/assets/colab-badge.svg\" alt=\"Open In Colab\"/></a>"
      ]
    },
    {
      "cell_type": "code",
      "execution_count": 1,
      "metadata": {
        "colab": {
          "base_uri": "https://localhost:8080/"
        },
        "id": "0BsY4lad1CvP",
        "outputId": "03f6a815-70a4-40ec-dc44-c73ca3a11ab2"
      },
      "outputs": [
        {
          "output_type": "execute_result",
          "data": {
            "text/plain": [
              "float"
            ]
          },
          "metadata": {},
          "execution_count": 1
        }
      ],
      "source": [
        "num=1\n",
        "n=4.5\n",
        "x=num+n\n",
        "type(x)"
      ]
    },
    {
      "cell_type": "code",
      "source": [
        "y=1.5\n",
        "type(y)"
      ],
      "metadata": {
        "colab": {
          "base_uri": "https://localhost:8080/"
        },
        "id": "pABCFP4x3gQb",
        "outputId": "b61ccdd7-0834-4949-c53c-9e9d38d64095"
      },
      "execution_count": 2,
      "outputs": [
        {
          "output_type": "execute_result",
          "data": {
            "text/plain": [
              "float"
            ]
          },
          "metadata": {},
          "execution_count": 2
        }
      ]
    },
    {
      "cell_type": "code",
      "source": [
        "c=10+5j\n",
        "type(c)\n"
      ],
      "metadata": {
        "colab": {
          "base_uri": "https://localhost:8080/"
        },
        "id": "I6AwP4EW3x0R",
        "outputId": "d2bed1a1-2356-4afb-e69b-ee552ff4af03"
      },
      "execution_count": 5,
      "outputs": [
        {
          "output_type": "execute_result",
          "data": {
            "text/plain": [
              "complex"
            ]
          },
          "metadata": {},
          "execution_count": 5
        }
      ]
    },
    {
      "cell_type": "code",
      "source": [
        "name=(\"Pranav\")\n",
        "type(name)"
      ],
      "metadata": {
        "colab": {
          "base_uri": "https://localhost:8080/"
        },
        "id": "XwGMRMKM4HaV",
        "outputId": "39f32cb6-9daf-49ad-93d3-4a9c0293c431"
      },
      "execution_count": 7,
      "outputs": [
        {
          "output_type": "execute_result",
          "data": {
            "text/plain": [
              "str"
            ]
          },
          "metadata": {},
          "execution_count": 7
        }
      ]
    },
    {
      "cell_type": "code",
      "source": [
        "msg=(\"I am a student of Rajagiri\")\n",
        "type(msg)"
      ],
      "metadata": {
        "colab": {
          "base_uri": "https://localhost:8080/"
        },
        "id": "7oduSX2i4Xoi",
        "outputId": "dfa74b0a-b509-4c65-d843-3cc6237e25e2"
      },
      "execution_count": 8,
      "outputs": [
        {
          "output_type": "execute_result",
          "data": {
            "text/plain": [
              "str"
            ]
          },
          "metadata": {},
          "execution_count": 8
        }
      ]
    },
    {
      "cell_type": "code",
      "source": [
        "friends=[\"x\",\"y\",\"z\",\"a\",\"b\"]\n",
        "type(friends)"
      ],
      "metadata": {
        "colab": {
          "base_uri": "https://localhost:8080/"
        },
        "id": "coTAHy4Z4mCa",
        "outputId": "3173035a-b98c-4967-ce87-654ac86721f9"
      },
      "execution_count": 9,
      "outputs": [
        {
          "output_type": "execute_result",
          "data": {
            "text/plain": [
              "list"
            ]
          },
          "metadata": {},
          "execution_count": 9
        }
      ]
    },
    {
      "cell_type": "code",
      "source": [
        "friends=[\"x\",\"y\",\"z\",\"a\",\"b\"]\n",
        "friends[0]"
      ],
      "metadata": {
        "colab": {
          "base_uri": "https://localhost:8080/",
          "height": 35
        },
        "id": "OxTFDxUH5qxB",
        "outputId": "f5cca777-5e2d-4268-862d-7b0f283a7d4d"
      },
      "execution_count": 10,
      "outputs": [
        {
          "output_type": "execute_result",
          "data": {
            "text/plain": [
              "'x'"
            ],
            "application/vnd.google.colaboratory.intrinsic+json": {
              "type": "string"
            }
          },
          "metadata": {},
          "execution_count": 10
        }
      ]
    },
    {
      "cell_type": "code",
      "source": [
        "FRIENDS=['PRANAV','JERRIL','JOMY','ALEX','VYSAKH','JEFFREY','FAEZ',\"RONALDO\"]\n",
        "L=FRIENDS+friends\n",
        "print(L)\n",
        "FRIENDS.pop()\n",
        "print(FRIENDS)"
      ],
      "metadata": {
        "colab": {
          "base_uri": "https://localhost:8080/"
        },
        "id": "5diC_RWp7C9y",
        "outputId": "80cc9e56-6948-4201-8303-f8f047ef5ea2"
      },
      "execution_count": 14,
      "outputs": [
        {
          "output_type": "stream",
          "name": "stdout",
          "text": [
            "['PRANAV', 'JERRIL', 'JOMY', 'ALEX', 'VYSAKH', 'JEFFREY', 'FAEZ', 'RONALDO', 'x', 'y', 'z', 'a', 'b']\n",
            "['PRANAV', 'JERRIL', 'JOMY', 'ALEX', 'VYSAKH', 'JEFFREY', 'FAEZ']\n"
          ]
        }
      ]
    },
    {
      "cell_type": "code",
      "source": [
        "FRIENDS.append(\"ADARSH\")\n",
        "print(FRIENDS)"
      ],
      "metadata": {
        "colab": {
          "base_uri": "https://localhost:8080/"
        },
        "id": "pZO28wwD8zjb",
        "outputId": "d5cd89c9-d64e-4249-c67c-77b9e0895cf0"
      },
      "execution_count": 26,
      "outputs": [
        {
          "output_type": "stream",
          "name": "stdout",
          "text": [
            "['PRANAV', 'JERRIL', 'JOMY', 'ALEX', 'VYSAKH', 'JEFFREY', 'FAEZ', 'ADARSH', 'ADARSH', 'ADARSH', 'ADARSH', 'ADARSH', 'ADARSH']\n"
          ]
        }
      ]
    },
    {
      "cell_type": "code",
      "source": [
        "friends=['ram','ravi','rahul','ravan']\n",
        "friends.append('rohit')\n",
        "print(friends)\n",
        "friends.sort()\n",
        "print(friends)\n",
        "friends.reverse()\n",
        "print(friends)\n",
        "friends.insert(1,\"raj\")\n",
        "print(friends)"
      ],
      "metadata": {
        "colab": {
          "base_uri": "https://localhost:8080/"
        },
        "id": "tZj0X8Lh8DHj",
        "outputId": "53739eb1-b2fe-44b0-9f60-909ea693b437"
      },
      "execution_count": 27,
      "outputs": [
        {
          "output_type": "stream",
          "name": "stdout",
          "text": [
            "['ram', 'ravi', 'rahul', 'ravan', 'rohit']\n",
            "['rahul', 'ram', 'ravan', 'ravi', 'rohit']\n",
            "['rohit', 'ravi', 'ravan', 'ram', 'rahul']\n",
            "['rohit', 'raj', 'ravi', 'ravan', 'ram', 'rahul']\n"
          ]
        }
      ]
    },
    {
      "cell_type": "code",
      "source": [
        "tuple_items=(10,20,30,30,4,'mrbrit','s')\n",
        "type(tuple_items)"
      ],
      "metadata": {
        "colab": {
          "base_uri": "https://localhost:8080/"
        },
        "id": "FzqW_xAbBgLM",
        "outputId": "3c21376a-9b93-46f4-f379-fb68559bf26a"
      },
      "execution_count": 29,
      "outputs": [
        {
          "output_type": "execute_result",
          "data": {
            "text/plain": [
              "tuple"
            ]
          },
          "metadata": {},
          "execution_count": 29
        }
      ]
    },
    {
      "cell_type": "code",
      "source": [
        "h={10,20,60}\n",
        "type(h)"
      ],
      "metadata": {
        "colab": {
          "base_uri": "https://localhost:8080/"
        },
        "id": "qsX-Vzg4Duz_",
        "outputId": "3445d47a-2576-4263-e163-c81067bfaaf1"
      },
      "execution_count": 30,
      "outputs": [
        {
          "output_type": "execute_result",
          "data": {
            "text/plain": [
              "set"
            ]
          },
          "metadata": {},
          "execution_count": 30
        }
      ]
    },
    {
      "cell_type": "code",
      "source": [
        "marks=(10,20,30,40,50)\n",
        "score=set(marks)\n",
        "print(score)"
      ],
      "metadata": {
        "colab": {
          "base_uri": "https://localhost:8080/"
        },
        "id": "c3xwYpyEF9Wt",
        "outputId": "e27e842b-3af5-43d0-afbe-86c1534f86dc"
      },
      "execution_count": 32,
      "outputs": [
        {
          "output_type": "stream",
          "name": "stdout",
          "text": [
            "{40, 10, 50, 20, 30}\n"
          ]
        }
      ]
    },
    {
      "cell_type": "code",
      "source": [
        "dict={\"name\":\"mrbit\",\"av fruits\":\"Apple\"}\n",
        "type(dict)"
      ],
      "metadata": {
        "colab": {
          "base_uri": "https://localhost:8080/"
        },
        "id": "maG4EelUGS9F",
        "outputId": "90be0870-1a76-44cb-e889-09c81e6681a5"
      },
      "execution_count": 35,
      "outputs": [
        {
          "output_type": "execute_result",
          "data": {
            "text/plain": [
              "dict"
            ]
          },
          "metadata": {},
          "execution_count": 35
        }
      ]
    },
    {
      "cell_type": "code",
      "source": [
        "dict={\"name\":\"ADARSH\",\"PHNO\":\"90722XXXXX\"}\n",
        "type(dict)\n",
        "print(dict)\n",
        "dict.keys()"
      ],
      "metadata": {
        "colab": {
          "base_uri": "https://localhost:8080/"
        },
        "id": "r3T6qprEHsMP",
        "outputId": "2611d355-d436-4134-e87d-6732d91013d8"
      },
      "execution_count": 40,
      "outputs": [
        {
          "output_type": "stream",
          "name": "stdout",
          "text": [
            "{'name': 'ADARSH', 'PHNO': '90722XXXXX'}\n"
          ]
        },
        {
          "output_type": "execute_result",
          "data": {
            "text/plain": [
              "dict_keys(['name', 'PHNO'])"
            ]
          },
          "metadata": {},
          "execution_count": 40
        }
      ]
    },
    {
      "cell_type": "code",
      "source": [
        "def add(x,y):\n",
        "  return(x+y)\n",
        "add(5,7)"
      ],
      "metadata": {
        "colab": {
          "base_uri": "https://localhost:8080/"
        },
        "id": "0TL9T_rrIb-V",
        "outputId": "f04ca4d5-7905-4df9-af3e-c1c33f8da254"
      },
      "execution_count": 42,
      "outputs": [
        {
          "output_type": "execute_result",
          "data": {
            "text/plain": [
              "12"
            ]
          },
          "metadata": {},
          "execution_count": 42
        }
      ]
    },
    {
      "cell_type": "code",
      "source": [],
      "metadata": {
        "id": "GFCJkvyoKyBG"
      },
      "execution_count": null,
      "outputs": []
    }
  ]
}