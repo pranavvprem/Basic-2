{
  "nbformat": 4,
  "nbformat_minor": 0,
  "metadata": {
    "colab": {
      "provenance": [],
      "authorship_tag": "ABX9TyNj8svbcm636iWQ/FWoA4AI",
      "include_colab_link": true
    },
    "kernelspec": {
      "name": "python3",
      "display_name": "Python 3"
    },
    "language_info": {
      "name": "python"
    }
  },
  "cells": [
    {
      "cell_type": "markdown",
      "metadata": {
        "id": "view-in-github",
        "colab_type": "text"
      },
      "source": [
        "<a href=\"https://colab.research.google.com/github/pranavvprem/Basic-2/blob/main/Untitled9.ipynb\" target=\"_parent\"><img src=\"https://colab.research.google.com/assets/colab-badge.svg\" alt=\"Open In Colab\"/></a>"
      ]
    },
    {
      "cell_type": "code",
      "execution_count": null,
      "metadata": {
        "id": "tqptitU2spYl"
      },
      "outputs": [],
      "source": [
        "def fun_name():\n",
        "  print(\"Hello World\")\n",
        "  \n"
      ]
    },
    {
      "cell_type": "code",
      "source": [
        "def fun_name():\n",
        "  print(\"Fifa World Cup\")\n",
        "  fun_name()"
      ],
      "metadata": {
        "id": "pcpIcYvhtHgp"
      },
      "execution_count": null,
      "outputs": []
    },
    {
      "cell_type": "code",
      "source": [
        "def fun_name():\n",
        "  x=input(\"Enter your first name\")\n",
        "  y=input(\"Enter your middle name\")\n",
        "  z=input(\"Enter your last name\")\n",
        "  print(x,y,z)\n",
        " \n"
      ],
      "metadata": {
        "id": "zPLpp3NLvU1z"
      },
      "execution_count": 13,
      "outputs": []
    },
    {
      "cell_type": "code",
      "source": [
        "fun_name()"
      ],
      "metadata": {
        "colab": {
          "base_uri": "https://localhost:8080/"
        },
        "id": "3roFUE2pv7iB",
        "outputId": "20fddfc4-913b-40a7-bd20-83e9e92375fd"
      },
      "execution_count": 14,
      "outputs": [
        {
          "output_type": "stream",
          "name": "stdout",
          "text": [
            "Enter your first name565\n",
            "Enter your middle name565\n",
            "Enter your last name45\n",
            "565 565 45\n"
          ]
        }
      ]
    },
    {
      "cell_type": "code",
      "source": [
        "def fun_name(country =\"Norway\"):\n",
        "  print(\"I am from\" +country)\n",
        "fun_name(\"Sweden\")\n",
        "fun_name(\"India\")\n",
        "fun_name()\n",
        "fun_name(\"Brazil\")\n",
        "\n",
        "\n",
        "  \n"
      ],
      "metadata": {
        "id": "hv8bIiHiy-6M",
        "colab": {
          "base_uri": "https://localhost:8080/"
        },
        "outputId": "5805f34d-3d05-4e37-aeb4-eb28f7de7c26"
      },
      "execution_count": 17,
      "outputs": [
        {
          "output_type": "stream",
          "name": "stdout",
          "text": [
            "I am fromSweden\n",
            "I am fromIndia\n",
            "I am fromNorway\n",
            "I am fromBrazil\n"
          ]
        }
      ]
    },
    {
      "cell_type": "code",
      "source": [
        "def fun_name(x):\n",
        "  for y in x:\n",
        "    print(y)\n",
        "k=[\"John\",\"Adam\",\"Matthew\"]\n",
        "fun_name(k)"
      ],
      "metadata": {
        "id": "4RWgdt_v15Lm",
        "colab": {
          "base_uri": "https://localhost:8080/"
        },
        "outputId": "29afbbd2-d6f2-4251-d44a-40d2da4a9087"
      },
      "execution_count": 21,
      "outputs": [
        {
          "output_type": "stream",
          "name": "stdout",
          "text": [
            "John\n",
            "Adam\n",
            "Matthew\n"
          ]
        }
      ]
    },
    {
      "cell_type": "code",
      "source": [
        "def fun_name(x):\n",
        "  for y in x:\n",
        "    print(y)\n",
        "k=[\"\"]"
      ],
      "metadata": {
        "id": "tKvgpq184joP"
      },
      "execution_count": 23,
      "outputs": []
    },
    {
      "cell_type": "code",
      "source": [
        "def fact(n):\n",
        "  if n <= 1:\n",
        "    return n \n",
        "  else:\n",
        "    return(fact(n-1) * n)\n",
        "    print(fact(10))"
      ],
      "metadata": {
        "id": "vw2gkPV96AOM"
      },
      "execution_count": 24,
      "outputs": []
    },
    {
      "cell_type": "code",
      "source": [
        "fact(5)"
      ],
      "metadata": {
        "colab": {
          "base_uri": "https://localhost:8080/"
        },
        "id": "y-vHvLRa69Vp",
        "outputId": "1e2986be-94f0-4c12-cc5b-e74b03c6700c"
      },
      "execution_count": 25,
      "outputs": [
        {
          "output_type": "execute_result",
          "data": {
            "text/plain": [
              "120"
            ]
          },
          "metadata": {},
          "execution_count": 25
        }
      ]
    },
    {
      "cell_type": "code",
      "source": [],
      "metadata": {
        "id": "Q6HVFh2y6_Hp"
      },
      "execution_count": null,
      "outputs": []
    }
  ]
}