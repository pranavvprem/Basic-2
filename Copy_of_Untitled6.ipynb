{
  "nbformat": 4,
  "nbformat_minor": 0,
  "metadata": {
    "colab": {
      "provenance": [],
      "authorship_tag": "ABX9TyP6ieH05v/aNL3mFB3mFJhW",
      "include_colab_link": true
    },
    "kernelspec": {
      "name": "python3",
      "display_name": "Python 3"
    },
    "language_info": {
      "name": "python"
    }
  },
  "cells": [
    {
      "cell_type": "markdown",
      "metadata": {
        "id": "view-in-github",
        "colab_type": "text"
      },
      "source": [
        "<a href=\"https://colab.research.google.com/github/pranavvprem/Basic-2/blob/main/Copy_of_Untitled6.ipynb\" target=\"_parent\"><img src=\"https://colab.research.google.com/assets/colab-badge.svg\" alt=\"Open In Colab\"/></a>"
      ]
    },
    {
      "cell_type": "code",
      "execution_count": null,
      "metadata": {
        "colab": {
          "base_uri": "https://localhost:8080/"
        },
        "id": "dMSeTrfVhVSy",
        "outputId": "428615d9-cc52-418e-b693-172378b46498"
      },
      "outputs": [
        {
          "output_type": "stream",
          "name": "stdout",
          "text": [
            "45\n",
            "absolute value of 45 is 45\n"
          ]
        }
      ],
      "source": [
        "num=int(input())\n",
        "if (num>0):\n",
        "  print(\"absolute value of\",num,\"is\",num)\n",
        "else:\n",
        "  num=num(-1)\n",
        "  print(\"absolute value of\",num,\"is\",num)\n"
      ]
    },
    {
      "cell_type": "code",
      "source": [
        "marks=int(input())\n",
        "if marks<25:\n",
        "  print(\"F\")\n",
        "elif marks>25 and marks<45:\n",
        "  print(\"E\")\n",
        "elif marks>45 and marks<50:\n",
        "  print(\"D\")\n",
        "elif marks>50 and marks<60:\n",
        "  print(\"C\")\n",
        "elif marks>60 and marks<80:\n",
        "  print(\"B\")\n",
        "else:\n",
        "  print(\"A\")\n"
      ],
      "metadata": {
        "colab": {
          "base_uri": "https://localhost:8080/"
        },
        "id": "R9H_Qr3ykuUz",
        "outputId": "e5c9e7b0-948e-438b-d31d-c1229e5a3862"
      },
      "execution_count": null,
      "outputs": [
        {
          "output_type": "stream",
          "name": "stdout",
          "text": [
            "99\n",
            "A\n"
          ]
        }
      ]
    },
    {
      "cell_type": "code",
      "source": [
        "n1=int(input())\n",
        "n2=int(input())\n",
        "p=n1*n2/100\n",
        "print(p)\n",
        "if p>75:\n",
        "  print(\"Student is allowed to sit in exam\")\n",
        "else:\n",
        "  print(\"Student is not allowed to sit in exam\")"
      ],
      "metadata": {
        "colab": {
          "base_uri": "https://localhost:8080/"
        },
        "id": "s2zSUz2tnJl1",
        "outputId": "2c8fd10b-b7ad-455c-b8fe-d40b7ef8e6d6"
      },
      "execution_count": null,
      "outputs": [
        {
          "output_type": "stream",
          "name": "stdout",
          "text": [
            "100\n",
            "98\n",
            "98.0\n",
            "Student is allowed to sit in exam\n"
          ]
        }
      ]
    },
    {
      "cell_type": "code",
      "source": [
        "print(\"Basic Calculator - Enter Numbers 1-4 to choose operation: \")\n",
        "print(\"1.Add\")\n",
        "print(\"2.Substract\")\n",
        "print(\"3.Multiply\")\n",
        "print(\"4.Divide\")\n",
        "\n",
        "x=int(input(\"Enter Choice(1-4): \"))\n",
        "\n",
        "if x==1:\n",
        "    a=int(input(\"Enter First Number:\"))\n",
        "    b=int(input(\"Enter Second Number:\"))\n",
        "    c=a+b\n",
        "    print(\"Sum = \",c)\n",
        "elif x==2:\n",
        "    a=int(input(\"Enter First Number:\"))\n",
        "    b=int(input(\"Enter Second Number:\"))\n",
        "    c=a-b\n",
        "    print(\"Difference = \",c)\n",
        "elif  x==3:\n",
        "    a=int(input(\"Enter First Number:\"))\n",
        "    b=int(input(\"Enter Second Number:\"))\n",
        "    c=a*b\n",
        "    print(\"Product = \",c)\n",
        "elif x==4:\n",
        "    a=int(input(\"Enter First Number:\"))\n",
        "    b=int(input(\"Enter Second Number:\"))\n",
        "    c=a/b\n",
        "    print(\"Quotient = \",c)\n",
        "else:\n",
        "    print(\"Invalid\")\n"
      ],
      "metadata": {
        "colab": {
          "base_uri": "https://localhost:8080/"
        },
        "id": "ob0BOsVgosUf",
        "outputId": "5043ca98-47fa-40b9-ceb9-5b0d4f3b45b7"
      },
      "execution_count": null,
      "outputs": [
        {
          "output_type": "stream",
          "name": "stdout",
          "text": [
            "Basic Calculator - Enter Numbers 1-4 to choose operation: \n",
            "1.Add\n",
            "2.Substract\n",
            "3.Multiply\n",
            "4.Divide\n",
            "Enter Choice(1-4): 4\n",
            "Enter First Number:45\n",
            "Enter Second Number:96\n",
            "Quotient =  0.46875\n"
          ]
        }
      ]
    },
    {
      "cell_type": "code",
      "source": [
        "m1=int(input(\"Enter the marks\"))\n",
        "m2=int(input(\"Enter the marks\"))\n",
        "m3=int(input(\"Enter the marks\"))\n",
        "m4=int(input(\"Enter the marks\"))\n",
        "m5=int(input(\"Enter the marks\"))\n",
        "least mark=min() \n",
        "maximum mark=max()\n",
        "average mark=avg\n"
      ],
      "metadata": {
        "id": "jJ56Q3SJxlIJ"
      },
      "execution_count": null,
      "outputs": []
    },
    {
      "cell_type": "code",
      "source": [],
      "metadata": {
        "id": "Kgz5mg_ovU66"
      },
      "execution_count": null,
      "outputs": []
    }
  ]
}