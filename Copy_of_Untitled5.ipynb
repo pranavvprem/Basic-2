{
  "nbformat": 4,
  "nbformat_minor": 0,
  "metadata": {
    "colab": {
      "provenance": [],
      "authorship_tag": "ABX9TyNj0QE3ukho7fWTzQThxncs",
      "include_colab_link": true
    },
    "kernelspec": {
      "name": "python3",
      "display_name": "Python 3"
    },
    "language_info": {
      "name": "python"
    }
  },
  "cells": [
    {
      "cell_type": "markdown",
      "metadata": {
        "id": "view-in-github",
        "colab_type": "text"
      },
      "source": [
        "<a href=\"https://colab.research.google.com/github/pranavvprem/Basic-2/blob/main/Copy_of_Untitled5.ipynb\" target=\"_parent\"><img src=\"https://colab.research.google.com/assets/colab-badge.svg\" alt=\"Open In Colab\"/></a>"
      ]
    },
    {
      "cell_type": "code",
      "execution_count": null,
      "metadata": {
        "colab": {
          "base_uri": "https://localhost:8080/"
        },
        "id": "EU3ut7pLpzRY",
        "outputId": "8a9a1933-e4c0-4cd6-fe73-c43997c65330"
      },
      "outputs": [
        {
          "output_type": "stream",
          "name": "stdout",
          "text": [
            "Enter the soucemoney\n",
            "Enter the destinationdubai\n",
            "Enter the no of passengers55\n",
            "money\n",
            "dubai\n",
            "55\n"
          ]
        }
      ],
      "source": [
        "travel_source=input(\"Enter the souce\")\n",
        "travel_destination=input(\"Enter the destination\")\n",
        "no_of_passengers=int(input(\"Enter the no of passengers\"))\n",
        "print(travel_source)\n",
        "print(travel_destination)\n",
        "print(no_of_passengers)  "
      ]
    },
    {
      "cell_type": "code",
      "source": [
        "total_ticket_fare=int(input(\"Enter the total amt\"))\n",
        "no_of_passengers=int(input(\"Enter the no of passengers\"))\n",
        "ticket_fare_per_person=(total_ticket_fare/no_of_passengers)\n",
        "print(ticket_fare_per_person)"
      ],
      "metadata": {
        "colab": {
          "base_uri": "https://localhost:8080/"
        },
        "id": "1sjzpEUQqpvw",
        "outputId": "276c3769-27be-49a8-fcfc-6131a87fb96c"
      },
      "execution_count": null,
      "outputs": [
        {
          "output_type": "stream",
          "name": "stdout",
          "text": [
            "Enter the total amt250000000\n",
            "Enter the no of passengers240\n",
            "1041666.6666666666\n"
          ]
        }
      ]
    },
    {
      "cell_type": "code",
      "source": [
        "passenger_name=input(\"Enter the passenger name\")\n",
        "ticket_fare=int(input(\"Enter ticket fare\"))\n",
        "print(passenger_name,ticket_fare)"
      ],
      "metadata": {
        "colab": {
          "base_uri": "https://localhost:8080/"
        },
        "id": "27wVuc-XsMg0",
        "outputId": "cd6f31d6-c81c-4d3f-bea4-5e1da72c1372"
      },
      "execution_count": null,
      "outputs": [
        {
          "output_type": "stream",
          "name": "stdout",
          "text": [
            "Enter the passenger namesajeev\n",
            "Enter ticket fare60\n",
            "sajeev 60\n"
          ]
        }
      ]
    },
    {
      "cell_type": "code",
      "source": [
        "total_ticket_fare=int(input(\"Enter total ticket fare\"))\n",
        "if total_ticket_fare>10000:\n",
        "   print(\"Eligible for discount\")\n"
      ],
      "metadata": {
        "colab": {
          "base_uri": "https://localhost:8080/"
        },
        "id": "9synEduTt21A",
        "outputId": "5c166efd-cf05-44bd-db1b-0c47639f8a14"
      },
      "execution_count": null,
      "outputs": [
        {
          "output_type": "stream",
          "name": "stdout",
          "text": [
            "Enter total ticket fare6000000\n",
            "Eligible for discount\n"
          ]
        }
      ]
    },
    {
      "cell_type": "code",
      "source": [
        "total_ticket_fare=int(input(\"Enter total ticket fare\"))\n",
        "if total_ticket_fare>15000:\n",
        "  print(\"Eligilbe for 20% discount\")\n",
        "else:\n",
        "  print(\"Eligilbe for 10% discount\")"
      ],
      "metadata": {
        "colab": {
          "base_uri": "https://localhost:8080/"
        },
        "id": "QFyfz_tqvRJ3",
        "outputId": "0f46b3ad-59c3-490f-ef58-1631ae6f4c80"
      },
      "execution_count": null,
      "outputs": [
        {
          "output_type": "stream",
          "name": "stdout",
          "text": [
            "Enter total ticket fare4500000\n",
            "Eligilbe for 20% discount\n"
          ]
        }
      ]
    },
    {
      "cell_type": "code",
      "source": [
        "total_ticket_fare=int(input(\"Enter the total ticket fare\"))\n",
        "if total_ticket_fare>15000:\n",
        "  twenty_per_cent_discount=total_ticket_fare*20/100\n",
        "  print(\"Eligible for 20% disount\",twenty_per_cent_discount)\n",
        "elif total_ticket_fare>10000 and total_ticket_fare<15000:\n",
        "  ten_per_cent_discount=total_ticket_fare*10/100\n",
        "  print(\"Eligible for 10% discount\",ten_per_cent_discount)\n",
        "elif total_ticket_fare<10000:\n",
        "  five_per_cent_discount=total_ticket_fare*5/100\n",
        "  print(\"Eligible for 5% discount\",five_per_cent_discount)\n"
      ],
      "metadata": {
        "colab": {
          "base_uri": "https://localhost:8080/"
        },
        "id": "Cu8VoUhtxHYn",
        "outputId": "a388c2c8-ff67-4e2f-8f3a-dab93dc92478"
      },
      "execution_count": null,
      "outputs": [
        {
          "output_type": "stream",
          "name": "stdout",
          "text": [
            "Enter the total ticket fare500000\n",
            "Eligible for 20% disount 100000.0\n"
          ]
        }
      ]
    },
    {
      "cell_type": "code",
      "source": [
        "x=int(input(\"Enter the number\"))\n",
        "if x>0:\n",
        "  print(\"The number is positive\")\n",
        "elif x==0:\n",
        "  print(\"The number is zero\")\n",
        "else:\n",
        "  print(\"The number is negative\")"
      ],
      "metadata": {
        "colab": {
          "base_uri": "https://localhost:8080/"
        },
        "id": "OVehYzbYylG7",
        "outputId": "da739738-d034-48b0-eb9c-4c77b62df9df"
      },
      "execution_count": null,
      "outputs": [
        {
          "output_type": "stream",
          "name": "stdout",
          "text": [
            "Enter the number54\n",
            "The number is positive\n"
          ]
        }
      ]
    },
    {
      "cell_type": "code",
      "source": [
        "age=int(input(\"Enter the age\"))\n",
        "if age>18:\n",
        "  print(\"Adult\")\n",
        "elif age>13 and age<19:\n",
        "  print(\"Teenager\")\n",
        "elif age>6 and age<13:\n",
        "  print(\"Toodler\")\n",
        "else:\n",
        "  print(\"Infant\")\n"
      ],
      "metadata": {
        "colab": {
          "base_uri": "https://localhost:8080/"
        },
        "id": "8dQFVbVl146R",
        "outputId": "b5f77d37-84bf-4da5-dd2c-b97911e2bc2e"
      },
      "execution_count": null,
      "outputs": [
        {
          "output_type": "stream",
          "name": "stdout",
          "text": [
            "Enter the age18\n",
            "Teenager\n"
          ]
        }
      ]
    },
    {
      "cell_type": "code",
      "source": [],
      "metadata": {
        "id": "cvZfxQ736MGV"
      },
      "execution_count": null,
      "outputs": []
    }
  ]
}